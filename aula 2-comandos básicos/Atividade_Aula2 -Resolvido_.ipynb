{
  "nbformat": 4,
  "nbformat_minor": 0,
  "metadata": {
    "colab": {
      "name": "Atividade Aula2-Resolvido .ipynb",
      "provenance": [],
      "collapsed_sections": [
        "vE5d_IvzcpXx"
      ]
    },
    "kernelspec": {
      "name": "python3",
      "display_name": "Python 3"
    },
    "language_info": {
      "name": "python"
    }
  },
  "cells": [
    {
      "cell_type": "markdown",
      "metadata": {
        "id": "2Pg0Qz75cTGq"
      },
      "source": [
        "### **Exercicios para treinar**\n"
      ]
    },
    {
      "cell_type": "code",
      "metadata": {
        "colab": {
          "base_uri": "https://localhost:8080/"
        },
        "id": "iIxHvqe47e6c",
        "outputId": "a854627c-0d12-4c30-c6fb-e71cf194ce4b"
      },
      "source": [
        "print( \"O primeiro programa a gente nunca esquece!\") #exercicio para treinar 1 ok"
      ],
      "execution_count": null,
      "outputs": [
        {
          "output_type": "stream",
          "text": [
            "O primeiro programa a gente nunca esquece!\n"
          ],
          "name": "stdout"
        }
      ]
    },
    {
      "cell_type": "code",
      "metadata": {
        "colab": {
          "base_uri": "https://localhost:8080/"
        },
        "id": "EwBL43ix8Kc0",
        "outputId": "868feb62-6f84-476a-c982-95b577cb86d9"
      },
      "source": [
        "print(f\"Nome: Victor Fernando Moura da Luz Santos\\n\"\n",
        "\"Endereço: Avenida Vitorino Dias, 90A, Ouro Preto -MG\\n\"\n",
        "\"CEP:35400-000\")#exercicio para treinar 2 ok"
      ],
      "execution_count": null,
      "outputs": [
        {
          "output_type": "stream",
          "text": [
            "Nome: Victor Fernando Moura da Luz Santos\n",
            "Endereço: Avenida Vitorino Dias, 90A, Ouro Preto -MG\n",
            "CEP:35400-000\n"
          ],
          "name": "stdout"
        }
      ]
    },
    {
      "cell_type": "code",
      "metadata": {
        "id": "UOqoTwuT9IpI",
        "colab": {
          "base_uri": "https://localhost:8080/"
        },
        "outputId": "35828362-1785-4cd8-c3bc-d10e4afc7604"
      },
      "source": [
        "print(\"\"\"\n",
        "Minha musica é: Numb - Linkin Park (Meteora-2003)\n",
        "I\\'m tired of being what you want me to be\n",
        "Feeling so faithless, lost under the surface\n",
        "Don't know what you're expecting of me\n",
        "Put under the pressure of walking in your shoes\n",
        "\n",
        "Every step that I take is another mistake to you\n",
        "(Caught in the undertow, just caught in the undertow)\n",
        "\n",
        "I've become so numb\n",
        "\"I can't feel you there\\nBecome so tired\n",
        "So much more aware\n",
        "\n",
        "I'm becoming this\n",
        "All I want to do\n",
        "Is be more like me\n",
        "And be less like you\n",
        "\n",
        "Can't you see that you're smothering me\n",
        "Holding too tightly, afraid to lose control?\n",
        "Cause everything that you thought I would be\n",
        "Has fallen apart right in front of you\n",
        "\n",
        "Every step that I take is another mistake to you\n",
        "(Caught in the undertow, just caught in the undertow)\n",
        "And every second I waste is more than I can take\n",
        "\n",
        "I've become so numb\n",
        "I can't feel you there\n",
        "Become so tired\n",
        "So much more aware\n",
        "\n",
        "I'm becoming this\n",
        "All I want to do\n",
        "Is be more like me\n",
        "And be less like you\n",
        "\n",
        "And I know\n",
        "I may end up failing too\n",
        "But I know\n",
        "You were just like me with someone disappointed in you\n",
        "\n",
        "I've become so numb\n",
        "I can't feel you there\n",
        "Become so tired\n",
        "So much more aware\n",
        "\n",
        "I'm becoming this\n",
        "All I want to do\n",
        "Is be more like me\n",
        "And be less like you\n",
        "\n",
        "I've become so numb\n",
        "I can't feel you there\n",
        "(I'm tired of being what you want me to be)\n",
        "I've become so numb\n",
        "I can't feel you there\n",
        "(I'm tired of being what you want me to be)\"\"\")\n",
        "\n",
        "#exercicio para treinar 3 ok"
      ],
      "execution_count": 58,
      "outputs": [
        {
          "output_type": "stream",
          "text": [
            "\n",
            "Minha musica é: Numb - Linkin Park (Meteora-2003)\n",
            "I'm tired of being what you want me to be\n",
            "Feeling so faithless, lost under the surface\n",
            "Don't know what you're expecting of me\n",
            "Put under the pressure of walking in your shoes\n",
            "\n",
            "Every step that I take is another mistake to you\n",
            "(Caught in the undertow, just caught in the undertow)\n",
            "\n",
            "I've become so numb\n",
            "\"I can't feel you there\n",
            "Become so tired\n",
            "So much more aware\n",
            "\n",
            "I'm becoming this\n",
            "All I want to do\n",
            "Is be more like me\n",
            "And be less like you\n",
            "\n",
            "Can't you see that you're smothering me\n",
            "Holding too tightly, afraid to lose control?\n",
            "Cause everything that you thought I would be\n",
            "Has fallen apart right in front of you\n",
            "\n",
            "Every step that I take is another mistake to you\n",
            "(Caught in the undertow, just caught in the undertow)\n",
            "And every second I waste is more than I can take\n",
            "\n",
            "I've become so numb\n",
            "I can't feel you there\n",
            "Become so tired\n",
            "So much more aware\n",
            "\n",
            "I'm becoming this\n",
            "All I want to do\n",
            "Is be more like me\n",
            "And be less like you\n",
            "\n",
            "And I know\n",
            "I may end up failing too\n",
            "But I know\n",
            "You were just like me with someone disappointed in you\n",
            "\n",
            "I've become so numb\n",
            "I can't feel you there\n",
            "Become so tired\n",
            "So much more aware\n",
            "\n",
            "I'm becoming this\n",
            "All I want to do\n",
            "Is be more like me\n",
            "And be less like you\n",
            "\n",
            "I've become so numb\n",
            "I can't feel you there\n",
            "(I'm tired of being what you want me to be)\n",
            "I've become so numb\n",
            "I can't feel you there\n",
            "(I'm tired of being what you want me to be)\n"
          ],
          "name": "stdout"
        }
      ]
    },
    {
      "cell_type": "code",
      "metadata": {
        "id": "RQoaI71nD_9M"
      },
      "source": [
        "print(\"ALUNO (A)  NOTA\\n\"\n",
        "\"=========  ====\\n\"\n",
        "\"ALINE      9.0\\n\"\n",
        "\"MÁRIO      DEZ\\n\"\n",
        "\"SÉRGIO     4.5\\n\"\n",
        "\"SHIRLEY    7.0\\n\")\n",
        "#exercicio para treinar 4 ok"
      ],
      "execution_count": null,
      "outputs": []
    },
    {
      "cell_type": "code",
      "metadata": {
        "id": "k-xhv1XTEgkn"
      },
      "source": [
        "print(\"Cadastro de Clientes\\n\"\n",
        "\"0 - Fim\\n\"\n",
        "\"1 - Inclui\\n\"\n",
        "\"2 - Altera\\n\"\n",
        "\"3 - Exclui\\n\"\n",
        "\"4 - Consulta\\n\")\n",
        "\n",
        "op=int(input(\"Digite uma opção: \"))\n",
        "print(f\"Opção escolhida: {op}\")\n",
        "\n",
        "#exercicio para treinar 5 ok"
      ],
      "execution_count": null,
      "outputs": []
    },
    {
      "cell_type": "code",
      "metadata": {
        "id": "bKWec1Gr-g5O"
      },
      "source": [
        "from math import ceil\n",
        "\n",
        "hp=int(input(\"Insira a Quantidade de vida do monstro:  \"))\n",
        "atk=int(input(\"Insira o valor do ataque do seu guerreiro: \"))\n",
        "turnos= ceil(hp/atk)\n",
        "print(f\"O jogador irá derrotar o monstro em {turnos} turnos\")\n",
        "\n",
        "#exercicio para treinar 6 ok"
      ],
      "execution_count": null,
      "outputs": []
    },
    {
      "cell_type": "markdown",
      "metadata": {
        "id": "vE5d_IvzcpXx"
      },
      "source": [
        "\n",
        "### **Exercícios**\n"
      ]
    },
    {
      "cell_type": "code",
      "metadata": {
        "id": "3tLco_MaHyhH"
      },
      "source": [
        "txServ=0.1\n",
        "vrefeicao=42.54\n",
        "\n",
        "print(f\"O valor final da conta é :R$ {vrefeicao+(vrefeicao*0.1)}\") \n",
        "#01-E os 10% do garçom? ok"
      ],
      "execution_count": null,
      "outputs": []
    },
    {
      "cell_type": "code",
      "metadata": {
        "colab": {
          "base_uri": "https://localhost:8080/"
        },
        "id": "gG0ILz8dN5HE",
        "outputId": "39f2c67d-d61b-4b80-8827-e979beeeb5ea"
      },
      "source": [
        "vdivida=float (100.98)\n",
        "vpago=float (150)\n",
        "troco=float (vpago - vdivida)\n",
        "print(f\"O troco total é de R${(troco):.2f}\")\n",
        "#02-Qual o valor do troco? !!"
      ],
      "execution_count": null,
      "outputs": [
        {
          "output_type": "stream",
          "text": [
            "O troco total é de R$49.02\n"
          ],
          "name": "stdout"
        }
      ]
    },
    {
      "cell_type": "code",
      "metadata": {
        "id": "iygY6hYwPM4H"
      },
      "source": [
        "anonas=int(input(\"Insira o ano de nascimento:  \"))\n",
        "anoat=int(input(\"Insira o ano de atual:  \"))\n",
        "idade=int(anoat-anonas)\n",
        "print(f\"Sua idade é : {idade}\\n\"\n",
        "\"Você está na flor da idade\")\n",
        "#03-Você está na flor da idade? ok"
      ],
      "execution_count": null,
      "outputs": []
    },
    {
      "cell_type": "markdown",
      "metadata": {
        "id": "vH4yWFvWdAQw"
      },
      "source": [
        "### **Mini projetos**"
      ]
    },
    {
      "cell_type": "code",
      "metadata": {
        "id": "RLArced-OlgU"
      },
      "source": [
        "  vreal=float (input(\"Informe o valor desejado em Reais  \"))\n",
        "\n",
        "  print(\"Moeda           Valor\\n\"\n",
        "  f\"=========            ====\\n\"\n",
        "  f\"Real                 BRL ${vreal}\\n\"\n",
        "  f\"Dolar                USD ${(vreal/5.04):.2f}\\n\"\n",
        "  f\"Libra Esterlina      EUR ${(vreal/7.13):.2f}\\n\"\n",
        "  f\"Dolar Canadense      CAD ${(vreal/4.16):.2f}\\n\"\n",
        "  f\"Peso Argentino       ARS ${(vreal/0.053):.2f}\\n\"\n",
        "  f\"Peso Chileno         CLP ${(vreal/0.0070):.2f}\\n\")\n",
        "#01 - Conversor de moedas"
      ],
      "execution_count": null,
      "outputs": []
    },
    {
      "cell_type": "code",
      "metadata": {
        "id": "WeabA5ENYJKp",
        "colab": {
          "base_uri": "https://localhost:8080/"
        },
        "outputId": "8890bdc7-c083-45be-de72-56f8b90fa1ea"
      },
      "source": [
        "aluguel=float (input(\"Informe o valordo aluguel  \"))\n",
        "igmp=float (0.31)\n",
        "print(f\"O aluguel reajustado é de R${aluguel+(aluguel*igmp)}\")\n",
        "#02 - Calculadora de aumento de aluguel part1"
      ],
      "execution_count": null,
      "outputs": [
        {
          "output_type": "stream",
          "text": [
            "Informe o valordo aluguel  2\n",
            "O aluguel reajustado é de R$2.62\n"
          ],
          "name": "stdout"
        }
      ]
    },
    {
      "cell_type": "code",
      "metadata": {
        "id": "srg8aUqSdL9x",
        "colab": {
          "base_uri": "https://localhost:8080/"
        },
        "outputId": "163ec5d6-a7a3-40df-a314-02c73deb43c5"
      },
      "source": [
        "aluguel=float (input(\"Informe o valordo aluguel  \"))\n",
        "igmp=float (input(\" Insira a porcentagem \"))\n",
        "aluguelajustado= (aluguel+(igmp/100*aluguel))\n",
        "print(f\"O aluguel reajustado é de R${aluguelajustado:.2f}\")\n",
        "#02 - Calculadora de aumento de aluguel part2"
      ],
      "execution_count": null,
      "outputs": [
        {
          "output_type": "stream",
          "text": [
            "Informe o valordo aluguel  20\n",
            " Insira a porcentagem 100\n",
            "O aluguel reajustado é de R$40.00\n"
          ],
          "name": "stdout"
        }
      ]
    }
  ]
}