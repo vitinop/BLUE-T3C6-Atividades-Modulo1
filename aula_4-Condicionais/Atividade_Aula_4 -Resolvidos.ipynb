{
  "nbformat": 4,
  "nbformat_minor": 0,
  "metadata": {
    "colab": {
      "name": "Exercicios_Codelab_Aula_04 Resolvidos",
      "provenance": [],
      "collapsed_sections": []
    },
    "kernelspec": {
      "name": "python3",
      "display_name": "Python 3"
    },
    "language_info": {
      "name": "python"
    }
  },
  "cells": [
    {
      "cell_type": "markdown",
      "metadata": {
        "id": "SW-cnnj3AAlE"
      },
      "source": [
        "## Exercício 01\n",
        "\n",
        "Faça um programa que pergunte ao usuário um número e valide se o numero é par ou impar:\n",
        "\n",
        "* Crie uma variável para receber o valor, com conversão para int\n",
        "* Para um número ser par, a divisão dele por 2 tem que dar resto 0"
      ]
    },
    {
      "cell_type": "code",
      "metadata": {
        "id": "ZeuCDPZQFT9T",
        "colab": {
          "base_uri": "https://localhost:8080/"
        },
        "outputId": "91c25d51-4347-434e-9c63-e5f2810fc1dc"
      },
      "source": [
        "num=int (input(\"Insira um numero  para descobrir se ele é par ou impar: \"))\n",
        "if (num % 2 ==0):\n",
        "  print(\"Número é par\")\n",
        "else:\n",
        "  print(\"Número é ímpar\")"
      ],
      "execution_count": null,
      "outputs": [
        {
          "output_type": "stream",
          "text": [
            "Insira um numero  para descobrir se ele é par ou impar: 2\n",
            "Número é par\n"
          ],
          "name": "stdout"
        }
      ]
    },
    {
      "cell_type": "markdown",
      "metadata": {
        "id": "jXVUBuN3DcU-"
      },
      "source": [
        "## Exercício 02\n",
        "\n",
        "> Parte 1\n",
        "\n",
        "Faça um script que peça um valor e mostre na tela se o valor é positivo ou negativo.\n",
        "\n",
        "> Parte 2\n",
        "\n",
        "Agora implemente a funcionalidade de não aceitar o número 0, no input. (esse vai além do explicado até agora)"
      ]
    },
    {
      "cell_type": "code",
      "metadata": {
        "id": "bsM4V6SeHwJr"
      },
      "source": [
        "num=float (input(\"Insira um numero  para descobrir se ele é positivo ou negativo \"))\n",
        "if num == 0:\n",
        "  print(\"Zero é um valor nulo, insira um valor válido\")  \n",
        "elif num > 0:\n",
        "  print(\"O valor é positivo\")  \n",
        "else:\n",
        "  print(\"O valor é negativo\")  "
      ],
      "execution_count": null,
      "outputs": []
    },
    {
      "cell_type": "markdown",
      "metadata": {
        "id": "90mUizLXOKd3"
      },
      "source": [
        "## Exercício 03\n",
        "\n",
        "Faça um programa que peça dois números, imprima o maior deles ou imprima \"Numeros iguais\" se os números forem iguais."
      ]
    },
    {
      "cell_type": "code",
      "metadata": {
        "id": "7yXB2kfUVYuD",
        "colab": {
          "base_uri": "https://localhost:8080/"
        },
        "outputId": "4171121d-d458-495e-f704-1c6ad2d23471"
      },
      "source": [
        "num1=float (input(\"Insira o primeiro numero \"))\n",
        "num2=float (input(\"Insira o segundo numero \"))\n",
        "\n",
        "if num1>num2:\n",
        "  print(f\"O primeiro número inserido é o maior, tendo valor de : {num1}\")\n",
        "\n",
        "\n",
        "if num2>num1:\n",
        "  print(f\"O segundo número inserido é o maior, tendo valor de : {num2}\")\n",
        "\n",
        "if num1==num2:\n",
        "  print(f\"Os números inseidor são iguais, tendo valor: {num2} \")"
      ],
      "execution_count": null,
      "outputs": [
        {
          "output_type": "stream",
          "text": [
            "Insira o primeiro numero 2\n",
            "Insira o segundo numero 2\n",
            "Os números inseidor são iguais, tendo valor: 2.0 \n"
          ],
          "name": "stdout"
        }
      ]
    },
    {
      "cell_type": "markdown",
      "metadata": {
        "id": "9BATv7tsOWOI"
      },
      "source": [
        "## Exercício 04\n",
        "\n",
        "Crie um programa que verifique se uma letra digitada é \"F\" ou \"M\". Conforme a letra, escrever: F - Feminino, M - Masculino, caso escreva outra letra: Sexo Biológico Inválido."
      ]
    },
    {
      "cell_type": "code",
      "metadata": {
        "id": "pRm8kyI7Wnp4",
        "colab": {
          "base_uri": "https://localhost:8080/"
        },
        "outputId": "2efe6fcb-4fbb-439a-a622-80e24bfdc776"
      },
      "source": [
        "sex=(input(\"Digite F para feminino e M para masculino: \"))\n",
        "sex=sex.capitalize()\n",
        "if sex==\"M\":\n",
        "  print(\"O sexo biológico é Masculino\")\n",
        "\n",
        "elif sex==\"F\":\n",
        "  print(\"O sexo biológico é feminino.\")\n",
        "\n",
        "else:\n",
        "  print(\"Sexo Biológico Inválido.\")"
      ],
      "execution_count": null,
      "outputs": [
        {
          "output_type": "stream",
          "text": [
            "Digite F para feminino e M para masculino: c\n",
            "Sexo Biológico Inválido.\n"
          ],
          "name": "stdout"
        }
      ]
    },
    {
      "cell_type": "markdown",
      "metadata": {
        "id": "WX2j2ITtY3G5"
      },
      "source": [
        "### Exercício 05\n",
        "\n",
        "Crie um programa em Python que peça a nota do aluno, que deve ser um float entre 0.00 e 10.0\n",
        "\n",
        "* Se a nota for menor que 6.0, deve exibir a nota F.\n",
        "\n",
        "* Se a nota for de 6.0 até 7.0, deve exibir a nota D.\n",
        "\n",
        "* Se a nota for entre 7.0 e 8.0, deve exibir a nota C.\n",
        "\n",
        "* Se a nota for entre 8.0 e 9.0, deve exibir a nota B.\n",
        "\n",
        "* Por fim, se for entre 9.0 e 10.0, deve exibir um belo de um A."
      ]
    },
    {
      "cell_type": "code",
      "metadata": {
        "id": "4CjqLlFWY5Z-"
      },
      "source": [
        "nota=float (input(\"Insira a nota do Aluno \"))\n",
        "if nota<0 or nota>10:\n",
        "  print(\"Nota invalida\")\n",
        "elif nota<6:\n",
        "  print(f\"Nota total: {nota} Conceito : F\")\n",
        "elif nota>=6 and nota<=7:\n",
        "  print(f\"Nota total: {nota} Conceito : D\")\n",
        "elif nota>7 and nota<=8:\n",
        "  print(f\"Nota total: {nota} Conceito : C\")\n",
        "elif nota>8 and nota<=9:\n",
        "  print(f\"Nota total: {nota} Conceito : B\")\n",
        "elif nota>9 and nota<=10:\n",
        "  print(f\"Nota total: {nota} Conceito : A\")\n"
      ],
      "execution_count": null,
      "outputs": []
    },
    {
      "cell_type": "markdown",
      "metadata": {
        "id": "xep4W_T-s-Ra"
      },
      "source": [
        "# *Mini Projetos*"
      ]
    },
    {
      "cell_type": "markdown",
      "metadata": {
        "id": "4YbMlSEZG7UM"
      },
      "source": [
        "## **PROJETO 01**\n",
        "\n",
        "*   Escreva um programa que receba uma string digitada pelo usuário;\n",
        "*   Caso a string seja \"medieval\", exiba no console \"espada\";\n",
        "*   Caso contrário, se a string for \"futurista\", exiba no console \"sabre de luz\";\n",
        "*   Caso contrário, exiba no console \"Tente novamente\""
      ]
    },
    {
      "cell_type": "code",
      "metadata": {
        "id": "tn9QH5pVG8Rq",
        "colab": {
          "base_uri": "https://localhost:8080/"
        },
        "outputId": "b4d22fe3-a7dc-4368-d929-ecf04a2f64a6"
      },
      "source": [
        "palavra = input(\"Digite medieval ou futurista: \") \n",
        "\n",
        "if palavra == \"medieval\":\n",
        "  print(\"Espada\")\n",
        "elif palavra == \"futurista\":\n",
        "  print(\"Sabre de Luz\")\n",
        "else:\n",
        "  print(\"Tente novamente!\")\n"
      ],
      "execution_count": null,
      "outputs": [
        {
          "output_type": "stream",
          "text": [
            "Digite medieval ou futurista: medieval\n",
            "Espada\n"
          ],
          "name": "stdout"
        }
      ]
    },
    {
      "cell_type": "markdown",
      "metadata": {
        "id": "zUGk1OiNHDik"
      },
      "source": [
        "## **PROJETO 02**\n",
        "\n",
        "* Escreva um programa que receba um ataque de espada ou sabre digitada pelo usuário;\n",
        "\n",
        "* Caso o ataque seja \"espada\", exiba no console \"VOCÊ AINDA NÃO MATOU O CHEFÃO\";\n",
        "\n",
        "* Caso contrário, se o ataque for \"sabre\", exiba no console \"VOCÊ DERROTOU O CHEFÃO COM O SABRE DE LUZ\";\n",
        "\n",
        "* Caso contrário, exiba no console \"ATAQUE NOVAMENTE\""
      ]
    },
    {
      "cell_type": "code",
      "metadata": {
        "id": "eNZokIIOHHkp"
      },
      "source": [
        "atk=input(\"Digite para atacar - sabre de luz ou espada:  \")\n",
        "atk=atk.upper()\n",
        "\n",
        "if atk==\"ESPADA\":\n",
        "  print(\"Você ainda não matou o CHEFÃO!\")\n",
        "elif atk==\"SABRE DE LUZ\":\n",
        "  print(\"Você derrotou o CHEFÃO com o sabre de luz!\")\n",
        "else:\n",
        "  print(\"Ataque novamente!\")"
      ],
      "execution_count": null,
      "outputs": []
    },
    {
      "cell_type": "markdown",
      "metadata": {
        "id": "NRhLAMa6ZfqU"
      },
      "source": [
        "## **DESAFIO 01**\n",
        "\n",
        "**Reajuste salarial**\n",
        "\n",
        "As empresas @.com resolveram dar um aumento de salário aos seus colaboradores e lhe contrataram para desenvolver o programa que calculará os reajustes.\n",
        "\n",
        "Faça um programa que recebe o salário de um colaborador e o reajuste segundo o seguinte critério, baseado no salário atual:\n",
        "* salários até R$ 280,00 (incluindo) : aumento de 20%\n",
        "\n",
        "* salários entre R\\$ 280,00 e R$ 700,00 : aumento de 15%\n",
        "\n",
        "* salários entre R\\$ 700,00 e R$ 1500,00 : aumento de 10%\n",
        "\n",
        "* salários de R$ 1500,00 em diante : aumento de 5% \n",
        "\n",
        "Após o aumento ser realizado, informe na tela:\n",
        "* o salário antes do reajuste;\n",
        "\n",
        "* o percentual de aumento aplicado;\n",
        "\n",
        "* o valor do aumento;\n",
        "\n",
        "* o novo salário, após o aumento.\""
      ]
    },
    {
      "cell_type": "code",
      "metadata": {
        "id": "VpC5oZINZXzt"
      },
      "source": [
        "salario = float(input(\"Insira o salário do colaborador: \"))\n",
        "salario_corrigido = 0\n",
        "aumento = 0\n",
        "\n",
        "if (salario <= 280.00):\n",
        "  aumento = salario * 0.2\n",
        "  salario_corrigido = salario + aumento\n",
        "  print (f\"\"\"\n",
        "  O salário antes do reajuste é: R$ {salario:.2f}\n",
        "  O percentual de aumento aplicado é de 20%\n",
        "  O salário recebeu um aumento de: R${aumento:.2f} \n",
        "  O salário corrigido é: R$ {salario_corrigido:.2f} \"\"\")\n",
        "\n",
        "elif (salario > 280.00 and salario <= 700.00):\n",
        "  aumento = salario * 0.15\n",
        "  salario_corrigido = salario + aumento\n",
        "  print (f\"\"\"\n",
        "  O salário antes do reajuste é: R$ {salario:.2f}\n",
        "  O percentual de aumento aplicado é de 15%\n",
        "  O salário recebeu um aumento de: R${aumento:.2f} \n",
        "  O salário corrigido é: R$ {salario_corrigido:.2f} \"\"\")\n",
        "\n",
        "elif (salario > 700.00 and salario <= 1500):\n",
        "  aumento = salario * 0.10\n",
        "  salario_corrigido = salario + aumento\n",
        "  print (f\"\"\"\n",
        "  O salário antes do reajuste é: R$ {salario:.2f}\n",
        "  O percentual de aumento aplicado é de 10%\n",
        "  O salário recebeu um aumento de: R${aumento:.2f} \n",
        "  O salário corrigido é: R$ {salario_corrigido:.2f} \"\"\")\n",
        "    \n",
        "elif (salario > 1500):\n",
        "  aumento = salario * 0.05\n",
        "  salario_corrigido = salario + aumento\n",
        "  print (f\"\"\"\n",
        "  O salário antes do reajuste é: R$ {salario:.2f}\n",
        "  O percentual de aumento aplicado é de 5%\n",
        "  O salário recebeu um aumento de: R${aumento:.2f} \n",
        "  O salário corrigido é: R$ {salario_corrigido:.2f} \"\"\")\n"
      ],
      "execution_count": null,
      "outputs": []
    },
    {
      "cell_type": "markdown",
      "metadata": {
        "id": "HvThpbU4aBGy"
      },
      "source": [
        "## **DESAFIO 02**\n",
        "\n",
        "**Jogo da adivinhação**\n",
        "\n",
        "Escreva um programa que faça o computador “pensar” em um número inteiro entre 0 e 10 e peça para o usuário tentar descobrir qual foi o número escolhido pelo computador. O programa deverá escrever na tela se o usuário venceu ou perdeu."
      ]
    },
    {
      "cell_type": "code",
      "metadata": {
        "id": "TVeHZbyQZIzO"
      },
      "source": [
        "import random\n",
        "sortnumber = random.randint(0,10)\n",
        "usernumber = input (\"Insira um numero de 0 a 10 e tente adivinhar o numero escolhido pela maquina: \")\n",
        "\n",
        "if sortnumber==usernumber:\n",
        "  print(\"Parabens você tem os dotes da mãe diná!\")\n",
        "else:\n",
        "  print(f\"Errou feio, errou rude, o numero sorteado foi {sortnumber}\")"
      ],
      "execution_count": null,
      "outputs": []
    },
    {
      "cell_type": "markdown",
      "metadata": {
        "id": "mjLFAUooaOH1"
      },
      "source": [
        "## **Desafio 03**\n",
        "\n",
        "**Caixa eletrônico**\n",
        "\n",
        "Faça um Programa para um caixa eletrônico. O programa deverá perguntar ao usuário a valor do saque e depois informar quantas notas de cada valor serão fornecidas. As notas disponíveis serão as de 1, 5, 10, 50 e 100 reais. O valor mínimo é de 10 reais e o máximo de 600 reais. O programa não deve se preocupar com a quantidade de notas existentes na máquina.\n",
        "\n",
        "* Exemplo 1: Para sacar a quantia de 256 reais, o programa fornece duas notas de 100, uma nota de 50, uma nota de 5 e uma nota de 1;\n",
        "\n",
        "* Exemplo 2: Para sacar a quantia de 399 reais, o programa fornece três notas de 100, uma nota de 50, quatro notas de 10, uma nota de 5 e quatro notas de 1.\n",
        "\n"
      ]
    },
    {
      "cell_type": "code",
      "metadata": {
        "id": "sH65bTx-ZMLh"
      },
      "source": [
        "dinheiro = int(input(\"Insira o valor de saque: \"))\n",
        "\n",
        "if dinheiro < 10.00:\n",
        "  print(\"Não é possível sacar valores abaixo de R$10,00\")\n",
        "\n",
        "if dinheiro > 600.00:\n",
        "  print(\"Não é possível sacar valores acima de R$600,00\")\n",
        "\n",
        "#Comparação\n",
        "\n",
        "contador1 = 0\n",
        "contador5 = 0\n",
        "contador10 = 0\n",
        "contador50 = 0\n",
        "contador100 = 0\n",
        "\n",
        "while dinheiro >= 100:\n",
        "  dinheiro = dinheiro - 100\n",
        "  contador100 = contador100 + 1\n",
        "  \n",
        "while dinheiro >= 50:\n",
        "  dinheiro = dinheiro - 50\n",
        "  contador50 = contador50 + 1\n",
        "  \n",
        "while dinheiro >= 10:\n",
        "  dinheiro = dinheiro - 10\n",
        "  contador10 = contador10 + 1\n",
        "\n",
        "while dinheiro >= 5:\n",
        "  dinheiro = dinheiro - 5\n",
        "  contador5 = contador5 + 1\n",
        "  \n",
        "while dinheiro >= 1:\n",
        "  dinheiro = dinheiro - 1\n",
        "  contador1 = contador1 + 1\n",
        "\n",
        "if dinheiro == 0:  \n",
        "  print(f\"\"\"\n",
        "  Serão fornecidas, {contador100} notas de R$100,00\n",
        "  Serão fornecidas, {contador50 } notas de R$50,00\n",
        "  Serão fornecidas, {contador10} notas de R$10,00\n",
        "  Serão fornecidas, {contador5} notas de R$5,00\n",
        "  Serão fornecidas, {contador1} notas de R$1,00 \"\"\")"
      ],
      "execution_count": null,
      "outputs": []
    }
  ]
}