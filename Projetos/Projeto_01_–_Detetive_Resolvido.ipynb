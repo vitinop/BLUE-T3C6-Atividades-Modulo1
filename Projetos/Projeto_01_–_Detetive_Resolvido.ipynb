{
  "nbformat": 4,
  "nbformat_minor": 0,
  "metadata": {
    "colab": {
      "name": "Projeto 01 – Detetive Resolvido",
      "provenance": [],
      "collapsed_sections": []
    },
    "kernelspec": {
      "name": "python3",
      "display_name": "Python 3.9.5 64-bit ('PythonSoftwareFoundation.Python.3.9_qbz5n2kfra8p0')"
    },
    "language_info": {
      "name": "python",
      "version": "3.9.5"
    },
    "interpreter": {
      "hash": "36dc8050977b889812fac298af82ba2fa871809a829d8af996fac5fafdb927b9"
    }
  },
  "cells": [
    {
      "cell_type": "markdown",
      "metadata": {
        "id": "g2KU80zOt_Ad"
      },
      "source": [
        "### Projeto 01 – Detetive\n",
        "**Esse projeto tem a finalidade de fixar os conhecimentos de Variáveis, Print, Input e Condicionais, para isso crie um programa que faça 5 perguntas para uma pessoa sobre um crime. As perguntas são:**\n",
        "\n",
        "• \"Você telefonou para a vítima?\"\n",
        "\n",
        "• \" Você esteve no local do crime?\"\n",
        "\n",
        "• \" Você mora perto da vítima?\"\n",
        "\n",
        "• \" Você devia para a vítima?\"\n",
        "\n",
        "• \" Você já trabalhou com a vítima?\"\n",
        "\n",
        "**O programa deve, no final, emitir uma classificação sobre a participação da pessoa no crime.**\n",
        "\n",
        "Se a pessoa responder positivamente a:\n",
        "\n",
        "• 2 questões ela deve ser classificada como \"Suspeita\",\n",
        "\n",
        "• Entre 3 e 4 como \"Cúmplice\"\n",
        "\n",
        "• 5 como \"Assassino\".\n",
        "\n",
        "• Caso contrário, ele será classificado como \"Inocente\".\n",
        "\n",
        "O projeto deve ser feito individualmente e entregue até o final da aula 06."
      ]
    },
    {
      "cell_type": "code",
      "metadata": {
        "id": "hqP4vO1TuPp8",
        "colab": {
          "base_uri": "https://localhost:8080/"
        },
        "outputId": "cc38ae36-9841-44ae-d472-576f7816759f"
      },
      "source": [
        "contadordeculpa=0\n",
        "\n",
        "print(\"Você telefonou para a vítima?\")\n",
        "resposta=str (input(\"Responda S para sim e N para não: \"))\n",
        "resposta=resposta.capitalize()\n",
        "if resposta == \"S\":\n",
        "  contadordeculpa=contadordeculpa+1 \n",
        "\n",
        "print(\"Você esteve no local do crime?\")\n",
        "resposta=str (input(\"Responda S para sim e N para não: \"))\n",
        "resposta=resposta.capitalize()\n",
        "if resposta == \"S\":\n",
        "  contadordeculpa=contadordeculpa+1 \n",
        "\n",
        "print(\"Você mora perto da vítima?\")\n",
        "resposta=str (input(\"Responda S para sim e N para não: \"))\n",
        "resposta=resposta.capitalize()\n",
        "if resposta == \"S\":\n",
        "  contadordeculpa=contadordeculpa+1 \n",
        "\n",
        "print(\"Você devia para a vítima?\")\n",
        "resposta=str (input(\"Responda S para sim e N para não: \"))\n",
        "resposta=resposta.capitalize()\n",
        "if resposta == \"S\":\n",
        "  contadordeculpa=contadordeculpa+1 \n",
        "\n",
        "print(\"Você já trabalhou com a vítima?\")\n",
        "resposta=str (input(\"Responda S para sim e N para não: \"))\n",
        "resposta=resposta.capitalize()\n",
        "if resposta == \"S\":\n",
        "  contadordeculpa=contadordeculpa+1 \n",
        "  \n",
        "if contadordeculpa <= 1:\n",
        "  print(\"O individuo é inocente\")\n",
        "elif contadordeculpa == 2:\n",
        "  print(\"O individuo é suspeito\")\n",
        "elif contadordeculpa == 3 or contadordeculpa == 4 :\n",
        "  print(\"O individuo é cúmplice\")\n",
        "elif contadordeculpa == 5:\n",
        "   print(\"O individuo é culpado\")"
      ],
      "execution_count": 4,
      "outputs": [
        {
          "output_type": "stream",
          "name": "stdout",
          "text": [
            "Você telefonou para a vítima?\n",
            "Você esteve no local do crime?\n",
            "Você mora perto da vítima?\n",
            "Você devia para a vítima?\n",
            " Você já trabalhou com a vítima?\n",
            "O individuo é culpado\n"
          ]
        }
      ]
    },
    {
      "cell_type": "code",
      "execution_count": null,
      "metadata": {},
      "outputs": [],
      "source": []
    }
  ]
}