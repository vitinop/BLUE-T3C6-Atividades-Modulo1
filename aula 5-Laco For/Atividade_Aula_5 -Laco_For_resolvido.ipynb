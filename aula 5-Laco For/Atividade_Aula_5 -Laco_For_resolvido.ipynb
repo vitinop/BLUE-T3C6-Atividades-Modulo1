{
  "nbformat": 4,
  "nbformat_minor": 0,
  "metadata": {
    "colab": {
      "name": "Aula_05_Laco_For.ipynb",
      "provenance": [],
      "collapsed_sections": []
    },
    "kernelspec": {
      "name": "python3",
      "display_name": "Python 3"
    },
    "language_info": {
      "name": "python"
    }
  },
  "cells": [
    {
      "cell_type": "markdown",
      "metadata": {
        "id": "5OBkpYL2j93v"
      },
      "source": [
        "## EXERCÍCIOS"
      ]
    },
    {
      "cell_type": "markdown",
      "metadata": {
        "id": "5YRVAt-RkbLo"
      },
      "source": [
        "01 - Faça um programa que mostre na tela uma contagem regressiva para o estouro de fogos de artifício, indo de 10 até 0, com uma pausa de 1 segundo entre eles."
      ]
    },
    {
      "cell_type": "code",
      "metadata": {
        "id": "5fGkh8FPkHJF",
        "colab": {
          "base_uri": "https://localhost:8080/"
        },
        "outputId": "8dcda0a5-a828-47b2-f6ad-1300cef14a67"
      },
      "source": [
        "import time\n",
        "for contadortempo in range(10,0,-1):\n",
        "  print(contadortempo)\n",
        "  time.sleep(1)\n",
        "print(\"Feliz Ano Novo!!!!\")"
      ],
      "execution_count": null,
      "outputs": [
        {
          "output_type": "stream",
          "text": [
            "10\n",
            "9\n",
            "8\n",
            "7\n",
            "6\n",
            "5\n",
            "4\n",
            "3\n",
            "2\n",
            "1\n",
            "Feliz Ano Novo!!!!\n"
          ],
          "name": "stdout"
        }
      ]
    },
    {
      "cell_type": "markdown",
      "metadata": {
        "id": "RPyky00yke8P"
      },
      "source": [
        "\n",
        "\n",
        "```\n",
        "# Isto está formatado como código\n",
        "```\n",
        "\n",
        "02 - Dado uma string com uma frase informada pelo usuário (incluindo espaços em branco), conte quantas vezes aparece as vogais a,e,i,o,u"
      ]
    },
    {
      "cell_type": "code",
      "metadata": {
        "id": "MCdlKXXxi2Ts"
      },
      "source": [
        ""
      ],
      "execution_count": null,
      "outputs": []
    },
    {
      "cell_type": "code",
      "metadata": {
        "id": "t8Vw_nW3ki2s"
      },
      "source": [
        "palavra=(input(\"Insira uma frase: \")) \n",
        "palavra=palavra.lower()\n",
        "contadorA=0\n",
        "contadorE=0\n",
        "contadorI=0\n",
        "contadorO=0\n",
        "contadorU=0\n",
        "\n",
        "for letra in palavra:\n",
        "  if letra == \"a\" or letra == \"â\" or letra == \"ã\" or letra == \"á\" or letra == \"à\":\n",
        "    contadorA=contadorA+1\n",
        "  elif letra ==\"e\" or letra ==\"é\" or letra ==\"ê\":\n",
        "    contadorE=contadorE+1\n",
        "  elif letra ==\"i\" or letra==\"í\":\n",
        "    contadorI=contadorI+1\n",
        "  elif letra ==\"o\" or letra ==\"ô\" or letra ==\"õ\" or letra ==\"ó\":\n",
        "    contadorO=contadorO+1\n",
        "  elif letra ==\"u\" or letra ==\"ú\":\n",
        "    contadorU=contadorU+1 \n",
        "\n",
        "print(f\"\"\" \n",
        "Foram inseridos {contadorA} Letras A\n",
        "Foram inseridos {contadorE} Letras E\n",
        "Foram inseridos {contadorI} Letras I\n",
        "Foram inseridos {contadorO} Letras O\n",
        "Foram inseridos {contadorU} Letras U\n",
        "\"\"\")\n",
        "\n",
        "\n",
        "\n",
        " "
      ],
      "execution_count": null,
      "outputs": []
    },
    {
      "cell_type": "code",
      "metadata": {
        "id": "j-cfkgaegEaD"
      },
      "source": [
        ""
      ],
      "execution_count": null,
      "outputs": []
    },
    {
      "cell_type": "markdown",
      "metadata": {
        "id": "3PKv_p1EkjJ-"
      },
      "source": [
        "**03** - Desenvolva um código que pergunte um número n para o usuário e exiba todos seus divisores"
      ]
    },
    {
      "cell_type": "code",
      "metadata": {
        "id": "U9_SKeqfknWF"
      },
      "source": [
        "numero=int (input(\"Insira um numero inteiro: \")) \n",
        "divisor=0\n",
        "for c in range(1,numero+1):\n",
        "  if numero%c ==0:\n",
        "    print(f\"O número{numero} é divisivel por {c}\")\n",
        "\n"
      ],
      "execution_count": null,
      "outputs": []
    },
    {
      "cell_type": "markdown",
      "metadata": {
        "id": "GgInr5G5koDC"
      },
      "source": [
        "04 - Escreva um programa onde o usuário digita uma frase e essa frase retorna sem nenhuma vogal."
      ]
    },
    {
      "cell_type": "code",
      "metadata": {
        "id": "K4HPRwrK3NkD"
      },
      "source": [
        "frase=(input(\"Insira uma frase: \")).lower()\n",
        "frase_semvogal=' '\n",
        "\n",
        "for letra in frase:\n",
        "  if letra in \"bcdfghjklmnpqrstvxywz\":\n",
        "    frase_semvogal=frase_semvogal+letra\n",
        "\n",
        "print({frase_semvogal})"
      ],
      "execution_count": null,
      "outputs": []
    }
  ]
}