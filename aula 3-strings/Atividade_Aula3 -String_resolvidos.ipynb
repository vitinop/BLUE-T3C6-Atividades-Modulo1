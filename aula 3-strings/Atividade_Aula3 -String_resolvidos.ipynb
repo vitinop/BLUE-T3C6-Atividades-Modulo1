{
  "nbformat": 4,
  "nbformat_minor": 0,
  "metadata": {
    "colab": {
      "name": "Exercicios_String-Aula3.ipynb",
      "provenance": [],
      "collapsed_sections": []
    },
    "kernelspec": {
      "name": "python3",
      "display_name": "Python 3"
    },
    "language_info": {
      "name": "python"
    }
  },
  "cells": [
    {
      "cell_type": "markdown",
      "metadata": {
        "id": "wbV2YraddQOF"
      },
      "source": [
        "01 - Considere a string A = \"Os limites só existem se você os deixar existir.(goku)\".\n",
        "\n",
        "Que fatia corresponde a (goku)?"
      ]
    },
    {
      "cell_type": "code",
      "metadata": {
        "colab": {
          "base_uri": "https://localhost:8080/"
        },
        "id": "VGLryq4IfbLb",
        "outputId": "77755bb1-e9ba-4d17-9189-80e8474f99f5"
      },
      "source": [
        "frase = \"Os limites só existem se você os deixar existir.(goku)\"\n",
        "\n",
        "localizador = frase.find(\"goku\")\n",
        "\n",
        "print(localizador)\n",
        "\n"
      ],
      "execution_count": null,
      "outputs": [
        {
          "output_type": "stream",
          "text": [
            "49\n"
          ],
          "name": "stdout"
        }
      ]
    },
    {
      "cell_type": "markdown",
      "metadata": {
        "id": "2hA2Tw6sdR95"
      },
      "source": [
        "02 - Escreva um programa que solicite uma frase ao usuário e escreva a frase toda em maiúscula e sem espaços em branco."
      ]
    },
    {
      "cell_type": "code",
      "metadata": {
        "colab": {
          "base_uri": "https://localhost:8080/"
        },
        "id": "wWIlmcHLjyyg",
        "outputId": "2e2c8792-63a5-45bb-95c0-cb13cbc85893"
      },
      "source": [
        "frase=(input(\"Digite sua frase: \"))\n",
        "print(frase.upper().replace(\" \",\"\"))\n",
        "\n"
      ],
      "execution_count": 1,
      "outputs": [
        {
          "output_type": "stream",
          "text": [
            "Digite sua frase: asd,\n",
            "ASD,\n"
          ],
          "name": "stdout"
        }
      ]
    },
    {
      "cell_type": "markdown",
      "metadata": {
        "id": "EntkYdeSdT_j"
      },
      "source": [
        "03 - Elabore um programa que recebe o seu nome, endereço e hobby e mostra cada uma das informações da seguinte forma:\n",
        "- Nome -> Letra maiúscula\n",
        "- Endereço -> Letra minúscula\n",
        "- Hobby -> Primeira letra maiúscula\n",
        "\n",
        "**Exemplo Entrada:**\n",
        "```\n",
        "Nome: bruno fabri\n",
        "Endereço: Rua ABC\n",
        "Hobby: jogar cs\n",
        "```\n",
        "\n",
        "**Exemplo Saída:**\n",
        "```\n",
        "Nome: BRUNO FABRI\n",
        "Endereço: rua abc\n",
        "Hobby: Jogar cs\n",
        "```"
      ]
    },
    {
      "cell_type": "code",
      "metadata": {
        "id": "CVR1E1vLnMzm"
      },
      "source": [
        "nome=(input(\"Escreva seu nome: \"))\n",
        "endereco=(input(\"Escreva seu endereço: \"))\n",
        "hobbie=(input(\"Escreva seu hobbie: \"))\n",
        "\n",
        "print(f\"Nome:{nome.upper()}\\n\"\n",
        "f\"Endereço:{endereco.lower()}  \\n\"\n",
        "f\"Hobbie:{hobbie.capitalize()}\" )"
      ],
      "execution_count": null,
      "outputs": []
    },
    {
      "cell_type": "code",
      "metadata": {
        "id": "3nuMYHDBntsb"
      },
      "source": [
        ""
      ],
      "execution_count": null,
      "outputs": []
    }
  ]
}